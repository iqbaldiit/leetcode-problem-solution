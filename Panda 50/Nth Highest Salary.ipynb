{
 "cells": [
  {
   "cell_type": "code",
   "execution_count": null,
   "metadata": {},
   "outputs": [],
   "source": [
    "# Source: https://leetcode.com/problems/nth-highest-salary/solutions/6539582/simple-best-solution-by-iqbaldiit-bm2v/\n",
    "'''\n",
    "\tTable: Employee\n",
    "\n",
    "\t+-------------+------+\n",
    "\t| Column Name | Type |\n",
    "\t+-------------+------+\n",
    "\t| id          | int  |\n",
    "\t| salary      | int  |\n",
    "\t+-------------+------+\n",
    "\tid is the primary key (column with unique values) for this table.\n",
    "\tEach row of this table contains information about the salary of an employee.\n",
    "\n",
    "\tWrite a solution to find the nth highest salary from the Employee table. \n",
    "\tIf there is no nth highest salary, return null.\n",
    "\n",
    "\tThe result format is in the following example.\n",
    "\n",
    "\tExample 1:\n",
    "\tInput: \n",
    "\tEmployee table:\n",
    "\t+----+--------+\n",
    "\t| id | salary |\n",
    "\t+----+--------+\n",
    "\t| 1  | 100    |\n",
    "\t| 2  | 200    |\n",
    "\t| 3  | 300    |\n",
    "\t+----+--------+\n",
    "\tn = 2\n",
    "\tOutput: \n",
    "\t+------------------------+\n",
    "\t| getNthHighestSalary(2) |\n",
    "\t+------------------------+\n",
    "\t| 200                    |\n",
    "\t+------------------------+\n",
    "\n",
    "\tExample 2:\n",
    "\tInput: \n",
    "\tEmployee table:\n",
    "\t+----+--------+\n",
    "\t| id | salary |\n",
    "\t+----+--------+\n",
    "\t| 1  | 100    |\n",
    "\t+----+--------+\n",
    "\tn = 2\n",
    "\n",
    "\tOutput: \n",
    "\t+------------------------+\n",
    "\t| getNthHighestSalary(2) |\n",
    "\t+------------------------+\n",
    "\t| null                   |\n",
    "\t+------------------------+\n",
    "'''\n",
    "\n",
    "import pandas as pd\n",
    "\n",
    "\n",
    "# Solution\n",
    "def nth_highest_salary(employee: pd.DataFrame, N: int) -> pd.DataFrame:\n",
    "    # Sort salaries in descending order and remove duplicates\n",
    "    sorted_salaries = employee['salary'].drop_duplicates().sort_values(ascending=False)\n",
    "\t# Check for invalid input\n",
    "    if N <= 0:\n",
    "        return pd.DataFrame({f\"getNthHighestSalary({N})\": [None]})  # Return null for invalid n\n",
    "    \n",
    "    # Check if n is within bounds\n",
    "    if N > len(sorted_salaries):\n",
    "        return pd.DataFrame({f\"getNthHighestSalary({N})\": [None]})\n",
    "    \n",
    "    nth_salary = sorted_salaries.iloc[N - 1]\n",
    "    \n",
    "    # Return the result as a DataFrame\n",
    "    return pd.DataFrame({f\"getNthHighestSalary({N})\": [nth_salary]}) "
   ]
  },
  {
   "cell_type": "code",
   "execution_count": 11,
   "metadata": {},
   "outputs": [
    {
     "name": "stdout",
     "output_type": "stream",
     "text": [
      "  getNthHighestSalary(-1)\n",
      "0                    None\n"
     ]
    }
   ],
   "source": [
    "# Prepare Data\n",
    "data = {\"id\": [1, 2, 3], \"salary\": [100, 200, 300]}\n",
    "df = pd.DataFrame(data)\n",
    "\n",
    "# Execution\n",
    "print(nth_highest_salary(df, -1))  # Output: 200"
   ]
  }
 ],
 "metadata": {
  "kernelspec": {
   "display_name": "Python 3",
   "language": "python",
   "name": "python3"
  },
  "language_info": {
   "codemirror_mode": {
    "name": "ipython",
    "version": 3
   },
   "file_extension": ".py",
   "mimetype": "text/x-python",
   "name": "python",
   "nbconvert_exporter": "python",
   "pygments_lexer": "ipython3",
   "version": "3.10.11"
  }
 },
 "nbformat": 4,
 "nbformat_minor": 2
}
