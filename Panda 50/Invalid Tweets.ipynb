{
 "cells": [
  {
   "cell_type": "code",
   "execution_count": null,
   "metadata": {},
   "outputs": [
    {
     "data": {
      "text/html": [
       "<div>\n",
       "<style scoped>\n",
       "    .dataframe tbody tr th:only-of-type {\n",
       "        vertical-align: middle;\n",
       "    }\n",
       "\n",
       "    .dataframe tbody tr th {\n",
       "        vertical-align: top;\n",
       "    }\n",
       "\n",
       "    .dataframe thead th {\n",
       "        text-align: right;\n",
       "    }\n",
       "</style>\n",
       "<table border=\"1\" class=\"dataframe\">\n",
       "  <thead>\n",
       "    <tr style=\"text-align: right;\">\n",
       "      <th></th>\n",
       "      <th>tweet_id</th>\n",
       "    </tr>\n",
       "  </thead>\n",
       "  <tbody>\n",
       "    <tr>\n",
       "      <th>1</th>\n",
       "      <td>2</td>\n",
       "    </tr>\n",
       "  </tbody>\n",
       "</table>\n",
       "</div>"
      ],
      "text/plain": [
       "  tweet_id\n",
       "1        2"
      ]
     },
     "execution_count": 29,
     "metadata": {},
     "output_type": "execute_result"
    }
   ],
   "source": [
    "# Source: https://leetcode.com/problems/invalid-tweets/solutions/6509664/best-simple-solution-by-iqbaldiit-eymg/\n",
    "'''\n",
    "\tTable: Tweets\n",
    "\t+----------------+---------+\n",
    "\t| Column Name    | Type    |\n",
    "\t+----------------+---------+\n",
    "\t| tweet_id       | int     |\n",
    "\t| content        | varchar |\n",
    "\t+----------------+---------+\n",
    "\ttweet_id is the primary key (column with unique values) for this table.\n",
    "\tcontent consists of characters on an American Keyboard, and no other special characters.\n",
    "\tThis table contains all the tweets in a social media app.\n",
    " \n",
    "\tWrite a solution to find the IDs of the invalid tweets. The tweet is invalid if the number of characters used in the content of the tweet is strictly greater than 15.\n",
    "\tReturn the result table in any order.\n",
    "\n",
    "\tThe result format is in the following example.\n",
    "\n",
    "\tExample 1:\n",
    "\n",
    "\tInput: \n",
    "\tTweets table:\n",
    "\t+----------+-----------------------------------+\n",
    "\t| tweet_id | content                           |\n",
    "\t+----------+-----------------------------------+\n",
    "\t| 1        | Let us Code                       |\n",
    "\t| 2        | More than fifteen chars are here! |\n",
    "\t+----------+-----------------------------------+\n",
    "\tOutput: \n",
    "\t+----------+\n",
    "\t| tweet_id |\n",
    "\t+----------+\n",
    "\t| 2        |\n",
    "\t+----------+\n",
    "\tExplanation: \n",
    "\tTweet 1 has length = 11. It is a valid tweet.\n",
    "\tTweet 2 has length = 33. It is an invalid tweet.\n",
    "'''\n",
    "import pandas as pd\n",
    "def invalid_tweets(tweets: pd.DataFrame) -> pd.DataFrame:\n",
    "    return tweets[['tweet_id']][tweets['content'].str.len() > 15]\n",
    "\n",
    "# Execution\n",
    "Data=[['1','Let us Code']\n",
    "        ,['2','More than fifteen chars are here!']]\n",
    "\n",
    "Tweets=pd.DataFrame(Data,columns=['tweet_id','content'])\n",
    "# invoke function\n",
    "invalid_tweets(Tweets)\n"
   ]
  }
 ],
 "metadata": {
  "kernelspec": {
   "display_name": "Python 3",
   "language": "python",
   "name": "python3"
  },
  "language_info": {
   "codemirror_mode": {
    "name": "ipython",
    "version": 3
   },
   "file_extension": ".py",
   "mimetype": "text/x-python",
   "name": "python",
   "nbconvert_exporter": "python",
   "pygments_lexer": "ipython3",
   "version": "3.10.11"
  }
 },
 "nbformat": 4,
 "nbformat_minor": 2
}
