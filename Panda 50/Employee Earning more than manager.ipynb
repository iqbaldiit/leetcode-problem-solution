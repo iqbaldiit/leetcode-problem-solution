{
 "cells": [
  {
   "cell_type": "code",
   "execution_count": null,
   "id": "15d6a106",
   "metadata": {},
   "outputs": [],
   "source": [
    "# Source: https://leetcode.com/problems/employees-earning-more-than-their-managers/solutions/6658823/simple-best-solution-by-iqbaldiit-ov9g/\n",
    "'''\n",
    "\tTable: Employee\n",
    "\n",
    "\t+-------------+---------+\n",
    "\t| Column Name | Type    |\n",
    "\t+-------------+---------+\n",
    "\t| id          | int     |\n",
    "\t| name        | varchar |\n",
    "\t| salary      | int     |\n",
    "\t| managerId   | int     |\n",
    "\t+-------------+---------+\n",
    "\tid is the primary key (column with unique values) for this table.\n",
    "\tEach row of this table indicates the ID of an employee, their name, salary, and the ID of their manager.\n",
    " \n",
    "\n",
    "\tWrite a solution to find the employees who earn more than their managers.\n",
    "\tReturn the result table in any order.\n",
    "\tThe result format is in the following example.\n",
    "\n",
    " \n",
    "\n",
    "\tExample 1:\n",
    "\n",
    "\tInput: \n",
    "\tEmployee table:\n",
    "\t+----+-------+--------+-----------+\n",
    "\t| id | name  | salary | managerId |\n",
    "\t+----+-------+--------+-----------+\n",
    "\t| 1  | Joe   | 70000  | 3         |\n",
    "\t| 2  | Henry | 80000  | 4         |\n",
    "\t| 3  | Sam   | 60000  | Null      |\n",
    "\t| 4  | Max   | 90000  | Null      |\n",
    "\t+----+-------+--------+-----------+\n",
    "\tOutput: \n",
    "\t+----------+\n",
    "\t| Employee |\n",
    "\t+----------+\n",
    "\t| Joe      |\n",
    "\t+----------+\n",
    "\tExplanation: Joe is the only employee who earns more than his manager.\n",
    "'''"
   ]
  },
  {
   "cell_type": "code",
   "execution_count": 9,
   "id": "f1099c69",
   "metadata": {},
   "outputs": [
    {
     "data": {
      "text/html": [
       "<div>\n",
       "<style scoped>\n",
       "    .dataframe tbody tr th:only-of-type {\n",
       "        vertical-align: middle;\n",
       "    }\n",
       "\n",
       "    .dataframe tbody tr th {\n",
       "        vertical-align: top;\n",
       "    }\n",
       "\n",
       "    .dataframe thead th {\n",
       "        text-align: right;\n",
       "    }\n",
       "</style>\n",
       "<table border=\"1\" class=\"dataframe\">\n",
       "  <thead>\n",
       "    <tr style=\"text-align: right;\">\n",
       "      <th></th>\n",
       "      <th>Employee</th>\n",
       "    </tr>\n",
       "  </thead>\n",
       "  <tbody>\n",
       "    <tr>\n",
       "      <th>0</th>\n",
       "      <td>Joe</td>\n",
       "    </tr>\n",
       "  </tbody>\n",
       "</table>\n",
       "</div>"
      ],
      "text/plain": [
       "  Employee\n",
       "0      Joe"
      ]
     },
     "execution_count": 9,
     "metadata": {},
     "output_type": "execute_result"
    }
   ],
   "source": [
    "import pandas as pd\n",
    "\n",
    "def find_employees(employee: pd.DataFrame) -> pd.DataFrame:\n",
    "    df=(employee.merge(employee\n",
    "            ,left_on=\"managerId\"\n",
    "            ,right_on=\"id\"\n",
    "            ,how=\"inner\"\n",
    "            ,suffixes=(\"_emp\",\"_mgr\"))\n",
    "            .query(\"salary_emp > salary_mgr\")\n",
    "            .rename(columns={\"name_emp\":\"Employee\"})\n",
    "            [[\"Employee\"]])\n",
    "    \n",
    "    return df\n",
    "\n",
    "# sample data\n",
    "data = [[1, 'Joe', 70000, 3], [2, 'Henry', 80000, 4], [3, 'Sam', 60000, None], [4, 'Max', 90000, None]]\n",
    "columns=['id', 'name', 'salary', 'managerId']\n",
    "\n",
    "# convert to dataframe\n",
    "employee = pd.DataFrame(data, columns=columns).astype({'id':'Int64', 'name':'object', 'salary':'Int64', 'managerId':'Int64'})\n",
    "\n",
    "# invove function \n",
    "find_employees(employee)\n"
   ]
  }
 ],
 "metadata": {
  "kernelspec": {
   "display_name": "Python 3",
   "language": "python",
   "name": "python3"
  },
  "language_info": {
   "codemirror_mode": {
    "name": "ipython",
    "version": 3
   },
   "file_extension": ".py",
   "mimetype": "text/x-python",
   "name": "python",
   "nbconvert_exporter": "python",
   "pygments_lexer": "ipython3",
   "version": "3.10.11"
  }
 },
 "nbformat": 4,
 "nbformat_minor": 5
}
