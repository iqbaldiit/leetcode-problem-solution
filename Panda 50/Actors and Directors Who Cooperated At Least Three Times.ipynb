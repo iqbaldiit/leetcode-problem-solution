{
 "cells": [
  {
   "cell_type": "code",
   "execution_count": null,
   "id": "368b5e63",
   "metadata": {},
   "outputs": [],
   "source": [
    "# Source: https://leetcode.com/problems/actors-and-directors-who-cooperated-at-least-three-times/solutions/6635342/simple-best-solution-by-iqbaldiit-cgrt/\n",
    "'''\n",
    "        Table: ActorDirector\n",
    "\n",
    "        +-------------+---------+\n",
    "        | Column Name | Type    |\n",
    "        +-------------+---------+\n",
    "        | actor_id    | int     |\n",
    "        | director_id | int     |\n",
    "        | timestamp   | int     |\n",
    "        +-------------+---------+\n",
    "        timestamp is the primary key (column with unique values) for this table.\n",
    "    \n",
    "\n",
    "        Write a solution to find all the pairs (actor_id, director_id) where the actor has cooperated with the director at least three times.\n",
    "\n",
    "        Return the result table in any order.\n",
    "\n",
    "        The result format is in the following example.\n",
    "\n",
    "    \n",
    "\n",
    "        Example 1:\n",
    "\n",
    "        Input: \n",
    "        ActorDirector table:\n",
    "        +-------------+-------------+-------------+\n",
    "        | actor_id    | director_id | timestamp   |\n",
    "        +-------------+-------------+-------------+\n",
    "        | 1           | 1           | 0           |\n",
    "        | 1           | 1           | 1           |\n",
    "        | 1           | 1           | 2           |\n",
    "        | 1           | 2           | 3           |\n",
    "        | 1           | 2           | 4           |\n",
    "        | 2           | 1           | 5           |\n",
    "        | 2           | 1           | 6           |\n",
    "        +-------------+-------------+-------------+\n",
    "        Output: \n",
    "        +-------------+-------------+\n",
    "        | actor_id    | director_id |\n",
    "        +-------------+-------------+\n",
    "        | 1           | 1           |\n",
    "        +-------------+-------------+\n",
    "        Explanation: The only pair is (1, 1) where they cooperated exactly 3 times.\n",
    "'''"
   ]
  },
  {
   "cell_type": "code",
   "execution_count": null,
   "id": "7a048141",
   "metadata": {},
   "outputs": [
    {
     "data": {
      "text/html": [
       "<div>\n",
       "<style scoped>\n",
       "    .dataframe tbody tr th:only-of-type {\n",
       "        vertical-align: middle;\n",
       "    }\n",
       "\n",
       "    .dataframe tbody tr th {\n",
       "        vertical-align: top;\n",
       "    }\n",
       "\n",
       "    .dataframe thead th {\n",
       "        text-align: right;\n",
       "    }\n",
       "</style>\n",
       "<table border=\"1\" class=\"dataframe\">\n",
       "  <thead>\n",
       "    <tr style=\"text-align: right;\">\n",
       "      <th></th>\n",
       "      <th>actor_id</th>\n",
       "      <th>director_id</th>\n",
       "    </tr>\n",
       "  </thead>\n",
       "  <tbody>\n",
       "    <tr>\n",
       "      <th>0</th>\n",
       "      <td>1</td>\n",
       "      <td>1</td>\n",
       "    </tr>\n",
       "  </tbody>\n",
       "</table>\n",
       "</div>"
      ],
      "text/plain": [
       "   actor_id  director_id\n",
       "0         1            1"
      ]
     },
     "execution_count": 18,
     "metadata": {},
     "output_type": "execute_result"
    }
   ],
   "source": [
    "import pandas as pd\n",
    "\n",
    "def actors_and_directors(actor_director: pd.DataFrame) -> pd.DataFrame:    \n",
    "    df=actor_director.groupby([\"actor_id\",\"director_id\"]).agg(\n",
    "    cnt=('timestamp','count')\n",
    "    ).reset_index()\n",
    "    return df[[\"actor_id\",\"director_id\"]][df[\"cnt\"]>=3]\n",
    "\n",
    "# sample dataset\n",
    "data = [\n",
    "    [1, 1, 0],\n",
    "    [1, 1, 1],\n",
    "    [1, 1, 2],\n",
    "    [1, 2, 3],\n",
    "    [1, 2, 4],\n",
    "    [2, 1, 5],\n",
    "    [2, 1, 6]\n",
    "]\n",
    "columns=['actor_id', 'director_id', 'timestamp']\n",
    "\n",
    "# prepare dataframe\n",
    "df=pd.DataFrame(data,columns=columns)\n",
    "\n",
    "#invoke function\n",
    "actors_and_directors(df)\n"
   ]
  }
 ],
 "metadata": {
  "kernelspec": {
   "display_name": "Python 3",
   "language": "python",
   "name": "python3"
  },
  "language_info": {
   "codemirror_mode": {
    "name": "ipython",
    "version": 3
   },
   "file_extension": ".py",
   "mimetype": "text/x-python",
   "name": "python",
   "nbconvert_exporter": "python",
   "pygments_lexer": "ipython3",
   "version": "3.10.11"
  }
 },
 "nbformat": 4,
 "nbformat_minor": 5
}
