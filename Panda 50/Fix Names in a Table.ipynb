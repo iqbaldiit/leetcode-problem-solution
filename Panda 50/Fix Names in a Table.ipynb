{
 "cells": [
  {
   "cell_type": "code",
   "execution_count": null,
   "metadata": {},
   "outputs": [],
   "source": [
    "# Source: https://leetcode.com/problems/fix-names-in-a-table/solutions/6304880/simple-best-solution/?envType=study-plan-v2&envId=30-days-of-pandas&lang=pythondata\n",
    "'''\n",
    "/*\n",
    "Source: https://leetcode.com/problems/fix-names-in-a-table/solutions/6304880/simple-best-solution-by-iqbaldiit-dafz/\n",
    "\n",
    "Table: Users\n",
    "\n",
    "+----------------+---------+\n",
    "| Column Name    | Type    |\n",
    "+----------------+---------+\n",
    "| user_id        | int     |\n",
    "| name           | varchar |\n",
    "+----------------+---------+\n",
    "user_id is the primary key (column with unique values) for this table.\n",
    "This table contains the ID and the name of the user. The name consists of only lowercase and uppercase characters.\n",
    " \n",
    "\n",
    "Write a solution to fix the names so that only the first character is uppercase and the rest are lowercase.\n",
    "\n",
    "Return the result table ordered by user_id.\n",
    "\n",
    "The result format is in the following example.\n",
    "\n",
    " \n",
    "\n",
    "Example 1:\n",
    "\n",
    "Input: \n",
    "Users table:\n",
    "+---------+-------+\n",
    "| user_id | name  |\n",
    "+---------+-------+\n",
    "| 1       | aLice |\n",
    "| 2       | bOB   |\n",
    "+---------+-------+\n",
    "Output: \n",
    "+---------+-------+\n",
    "| user_id | name  |\n",
    "+---------+-------+\n",
    "| 1       | Alice |\n",
    "| 2       | Bob   |\n",
    "+---------+-------+\n",
    "\n",
    "*/\n",
    "'''\n",
    "import pandas as pd\n",
    "\n",
    "def fix_names(users: pd.DataFrame) -> pd.DataFrame:\n",
    "    users['name']=users['name'].str.capitalize()\n",
    "    users.sort_values(by='user_id',ascending=True,inplace=True)    \n",
    "    return users"
   ]
  },
  {
   "cell_type": "code",
   "execution_count": 6,
   "metadata": {},
   "outputs": [
    {
     "data": {
      "text/html": [
       "<div>\n",
       "<style scoped>\n",
       "    .dataframe tbody tr th:only-of-type {\n",
       "        vertical-align: middle;\n",
       "    }\n",
       "\n",
       "    .dataframe tbody tr th {\n",
       "        vertical-align: top;\n",
       "    }\n",
       "\n",
       "    .dataframe thead th {\n",
       "        text-align: right;\n",
       "    }\n",
       "</style>\n",
       "<table border=\"1\" class=\"dataframe\">\n",
       "  <thead>\n",
       "    <tr style=\"text-align: right;\">\n",
       "      <th></th>\n",
       "      <th>user_id</th>\n",
       "      <th>name</th>\n",
       "    </tr>\n",
       "  </thead>\n",
       "  <tbody>\n",
       "    <tr>\n",
       "      <th>0</th>\n",
       "      <td>1</td>\n",
       "      <td>Alice</td>\n",
       "    </tr>\n",
       "    <tr>\n",
       "      <th>1</th>\n",
       "      <td>2</td>\n",
       "      <td>Bob</td>\n",
       "    </tr>\n",
       "  </tbody>\n",
       "</table>\n",
       "</div>"
      ],
      "text/plain": [
       "   user_id   name\n",
       "0        1  Alice\n",
       "1        2    Bob"
      ]
     },
     "execution_count": 6,
     "metadata": {},
     "output_type": "execute_result"
    }
   ],
   "source": [
    "# prepare data\n",
    "users = {'user_id': [1, 2], 'name': ['aLice', 'bOB']}\n",
    "# convert it to dataframe\n",
    "df=pd.DataFrame(users)\n",
    "#invoke function\n",
    "fix_names(df)"
   ]
  }
 ],
 "metadata": {
  "kernelspec": {
   "display_name": "Python 3",
   "language": "python",
   "name": "python3"
  },
  "language_info": {
   "codemirror_mode": {
    "name": "ipython",
    "version": 3
   },
   "file_extension": ".py",
   "mimetype": "text/x-python",
   "name": "python",
   "nbconvert_exporter": "python",
   "pygments_lexer": "ipython3",
   "version": "3.12.4"
  }
 },
 "nbformat": 4,
 "nbformat_minor": 2
}
