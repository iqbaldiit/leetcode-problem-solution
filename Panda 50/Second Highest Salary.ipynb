{
 "cells": [
  {
   "cell_type": "code",
   "execution_count": null,
   "metadata": {},
   "outputs": [],
   "source": [
    "# Source: https://leetcode.com/problems/second-highest-salary/solutions/6563584/simple-best-solution-by-iqbaldiit-ptjd/\n",
    "'''\n",
    "\tTable: Employee\n",
    "\n",
    "\t+-------------+------+\n",
    "\t| Column Name | Type |\n",
    "\t+-------------+------+\n",
    "\t| id          | int  |\n",
    "\t| salary      | int  |\n",
    "\t+-------------+------+\n",
    "\tid is the primary key (column with unique values) for this table.\n",
    "\tEach row of this table contains information about the salary of an employee.\n",
    "\t\n",
    "\n",
    "\tWrite a solution to find the second highest distinct salary from the Employee table. If there is no second highest salary, return null (return None in Pandas).\n",
    "\n",
    "\tThe result format is in the following example.\n",
    "\n",
    "\t\n",
    "\n",
    "\tExample 1:\n",
    "\n",
    "\tInput: \n",
    "\tEmployee table:\n",
    "\t+----+--------+\n",
    "\t| id | salary |\n",
    "\t+----+--------+\n",
    "\t| 1  | 100    |\n",
    "\t| 2  | 200    |\n",
    "\t| 3  | 300    |\n",
    "\t+----+--------+\n",
    "\tOutput: \n",
    "\t+---------------------+\n",
    "\t| SecondHighestSalary |\n",
    "\t+---------------------+\n",
    "\t| 200                 |\n",
    "\t+---------------------+\n",
    "\tExample 2:\n",
    "\n",
    "\tInput: \n",
    "\tEmployee table:\n",
    "\t+----+--------+\n",
    "\t| id | salary |\n",
    "\t+----+--------+\n",
    "\t| 1  | 100    |\n",
    "\t+----+--------+\n",
    "\tOutput: \n",
    "\t+---------------------+\n",
    "\t| SecondHighestSalary |\n",
    "\t+---------------------+\n",
    "\t| null                |\n",
    "\t+---------------------+\n",
    "'''\n",
    "\n",
    "import pandas as pd\n",
    "\n",
    "# Solution\n",
    "def second_highest_salary(employee: pd.DataFrame) -> pd.DataFrame:       \n",
    "\tunique_salaries=employee[\"salary\"].drop_duplicates().sort_values(ascending=False)\n",
    "\tif len(unique_salaries)<2:\n",
    "\t\treturn pd.DataFrame({\"SecondHighestSalary\": [None]})\n",
    "\tsec_highest_salary=unique_salaries.iloc[1]\n",
    "\treturn pd.DataFrame({\"SecondHighestSalary\": [sec_highest_salary]})\n",
    "    "
   ]
  },
  {
   "cell_type": "code",
   "execution_count": 2,
   "metadata": {},
   "outputs": [
    {
     "name": "stdout",
     "output_type": "stream",
     "text": [
      "   SecondHighestSalary\n",
      "0                  200\n"
     ]
    }
   ],
   "source": [
    "# Prepare Data\n",
    "data = {\"id\": [1,2,3], \"salary\": [100,200,300]}\n",
    "df = pd.DataFrame(data)\n",
    "\n",
    "# Execution\n",
    "print(second_highest_salary(df))  # Output: 200"
   ]
  }
 ],
 "metadata": {
  "kernelspec": {
   "display_name": "Python 3",
   "language": "python",
   "name": "python3"
  },
  "language_info": {
   "codemirror_mode": {
    "name": "ipython",
    "version": 3
   },
   "file_extension": ".py",
   "mimetype": "text/x-python",
   "name": "python",
   "nbconvert_exporter": "python",
   "pygments_lexer": "ipython3",
   "version": "3.10.11"
  }
 },
 "nbformat": 4,
 "nbformat_minor": 2
}
