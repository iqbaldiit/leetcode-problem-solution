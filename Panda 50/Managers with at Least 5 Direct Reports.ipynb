{
 "cells": [
  {
   "cell_type": "code",
   "execution_count": null,
   "metadata": {},
   "outputs": [],
   "source": [
    "# Source: https://leetcode.com/problems/managers-with-at-least-5-direct-reports/solutions/6646046/simple-best-solution-by-iqbaldiit-d3au/\n",
    "'''\n",
    "\tTable: Employee\n",
    "\n",
    "\t+-------------+---------+\n",
    "\t| Column Name | Type    |\n",
    "\t+-------------+---------+\n",
    "\t| id          | int     |\n",
    "\t| name        | varchar |\n",
    "\t| department  | varchar |\n",
    "\t| managerId   | int     |\n",
    "\t+-------------+---------+\n",
    "\tid is the primary key (column with unique values) for this table.\n",
    "\tEach row of this table indicates the name of an employee, their department, and the id of their manager.\n",
    "\tIf managerId is null, then the employee does not have a manager.\n",
    "\tNo employee will be the manager of themself.\n",
    " \n",
    "\n",
    "\tWrite a solution to find managers with at least five direct reports.\n",
    "\n",
    "\tReturn the result table in any order.\n",
    "\n",
    "\tThe result format is in the following example.\n",
    "\n",
    " \n",
    "\n",
    "\tExample 1:\n",
    "\n",
    "\tInput: \n",
    "\tEmployee table:\n",
    "\t+-----+-------+------------+-----------+\n",
    "\t| id  | name  | department | managerId |\n",
    "\t+-----+-------+------------+-----------+\n",
    "\t| 101 | John  | A          | null      |\n",
    "\t| 102 | Dan   | A          | 101       |\n",
    "\t| 103 | James | A          | 101       |\n",
    "\t| 104 | Amy   | A          | 101       |\n",
    "\t| 105 | Anne  | A          | 101       |\n",
    "\t| 106 | Ron   | B          | 101       |\n",
    "\t+-----+-------+------------+-----------+\n",
    "\tOutput: \n",
    "\t+------+\n",
    "\t| name |\n",
    "\t+------+\n",
    "\t| John |\n",
    "\t+------+\n",
    "'''"
   ]
  },
  {
   "cell_type": "code",
   "execution_count": null,
   "metadata": {},
   "outputs": [
    {
     "data": {
      "text/html": [
       "<div>\n",
       "<style scoped>\n",
       "    .dataframe tbody tr th:only-of-type {\n",
       "        vertical-align: middle;\n",
       "    }\n",
       "\n",
       "    .dataframe tbody tr th {\n",
       "        vertical-align: top;\n",
       "    }\n",
       "\n",
       "    .dataframe thead th {\n",
       "        text-align: right;\n",
       "    }\n",
       "</style>\n",
       "<table border=\"1\" class=\"dataframe\">\n",
       "  <thead>\n",
       "    <tr style=\"text-align: right;\">\n",
       "      <th></th>\n",
       "      <th>name</th>\n",
       "    </tr>\n",
       "  </thead>\n",
       "  <tbody>\n",
       "    <tr>\n",
       "      <th>0</th>\n",
       "      <td>John</td>\n",
       "    </tr>\n",
       "  </tbody>\n",
       "</table>\n",
       "</div>"
      ],
      "text/plain": [
       "   name\n",
       "0  John"
      ]
     },
     "execution_count": 27,
     "metadata": {},
     "output_type": "execute_result"
    }
   ],
   "source": [
    "import pandas as pd\n",
    "def find_managers(employee: pd.DataFrame) -> pd.DataFrame:\n",
    "    rpt_df=employee.groupby(\"managerId\")[\"id\"].count().reset_index(name=\"rpt_count\")\n",
    "    manager_with_five_df=rpt_df[rpt_df[\"rpt_count\"]>=5]\n",
    "    return manager_with_five_df.merge(employee,left_on=\"managerId\",right_on=\"id\",how=\"inner\")[[\"name\"]]  \n",
    "\n",
    "# Sample DataFrame\n",
    "data = {\n",
    "    'id': [101, 102, 103, 104, 105, 106, 107, 108, 109, 110],\n",
    "    'name': ['John', 'Dan', 'James', 'Amy', 'Anne', 'Ron', 'Tom', 'Tommy', 'Peter', 'Dong'],\n",
    "    'department': ['A', 'A', 'A', 'A', 'A', 'B', 'A', 'A', 'C', 'A'],\n",
    "    'managerId': [None, 101, 101, 101, 101, 101, 102, 102, 102, 102]\n",
    "}\n",
    "# convert to dataframe\n",
    "df = pd.DataFrame(data)\n",
    "\n",
    "# invoke function\n",
    "find_managers(df)\n",
    "\n",
    "\n"
   ]
  }
 ],
 "metadata": {
  "kernelspec": {
   "display_name": "Python 3",
   "language": "python",
   "name": "python3"
  },
  "language_info": {
   "codemirror_mode": {
    "name": "ipython",
    "version": 3
   },
   "file_extension": ".py",
   "mimetype": "text/x-python",
   "name": "python",
   "nbconvert_exporter": "python",
   "pygments_lexer": "ipython3",
   "version": "3.10.11"
  }
 },
 "nbformat": 4,
 "nbformat_minor": 2
}
