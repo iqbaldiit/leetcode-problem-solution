{
 "cells": [
  {
   "cell_type": "code",
   "execution_count": null,
   "metadata": {},
   "outputs": [],
   "source": [
    "# Source: https://leetcode.com/problems/classes-more-than-5-students/solutions/6609968/simple-best-solution-by-iqbaldiit-tvdb/\n",
    "'''\n",
    "    Table: Courses\n",
    "\n",
    "    +-------------+---------+\n",
    "    | Column Name | Type    |\n",
    "    +-------------+---------+\n",
    "    | student     | varchar |\n",
    "    | class       | varchar |\n",
    "    +-------------+---------+\n",
    "    (student, class) is the primary key (combination of columns with unique values) for this table.\n",
    "    Each row of this table indicates the name of a student and the class in which they are enrolled.\n",
    "    \n",
    "\n",
    "    Write a solution to find all the classes that have at least five students.\n",
    "\n",
    "    Return the result table in any order.\n",
    "\n",
    "    The result format is in the following example.\n",
    "\n",
    "    \n",
    "\n",
    "    Example 1:\n",
    "\n",
    "    Input: \n",
    "    Courses table:\n",
    "    +---------+----------+\n",
    "    | student | class    |\n",
    "    +---------+----------+\n",
    "    | A       | Math     |\n",
    "    | B       | English  |\n",
    "    | C       | Math     |\n",
    "    | D       | Biology  |\n",
    "    | E       | Math     |\n",
    "    | F       | Computer |\n",
    "    | G       | Math     |\n",
    "    | H       | Math     |\n",
    "    | I       | Math     |\n",
    "    +---------+----------+\n",
    "    Output: \n",
    "    +---------+\n",
    "    | class   |\n",
    "    +---------+\n",
    "    | Math    |\n",
    "    +---------+\n",
    "    Explanation: \n",
    "    - Math has 6 students, so we include it.\n",
    "    - English has 1 student, so we do not include it.\n",
    "    - Biology has 1 student, so we do not include it.\n",
    "    - Computer has 1 student, so we do not include it.\n",
    "'''\n",
    "import pandas as pd\n",
    "def find_classes(courses: pd.DataFrame) -> pd.DataFrame:\n",
    "    dfResult=courses.groupby(\"class\")[\"student\"].count().reset_index(name=\"stu_cnt\")\n",
    "    return dfResult[dfResult[\"stu_cnt\"]>=5][[\"class\"]]"
   ]
  },
  {
   "cell_type": "code",
   "execution_count": 21,
   "metadata": {},
   "outputs": [
    {
     "data": {
      "text/html": [
       "<div>\n",
       "<style scoped>\n",
       "    .dataframe tbody tr th:only-of-type {\n",
       "        vertical-align: middle;\n",
       "    }\n",
       "\n",
       "    .dataframe tbody tr th {\n",
       "        vertical-align: top;\n",
       "    }\n",
       "\n",
       "    .dataframe thead th {\n",
       "        text-align: right;\n",
       "    }\n",
       "</style>\n",
       "<table border=\"1\" class=\"dataframe\">\n",
       "  <thead>\n",
       "    <tr style=\"text-align: right;\">\n",
       "      <th></th>\n",
       "      <th>class</th>\n",
       "    </tr>\n",
       "  </thead>\n",
       "  <tbody>\n",
       "    <tr>\n",
       "      <th>3</th>\n",
       "      <td>Math</td>\n",
       "    </tr>\n",
       "  </tbody>\n",
       "</table>\n",
       "</div>"
      ],
      "text/plain": [
       "  class\n",
       "3  Math"
      ]
     },
     "execution_count": 21,
     "metadata": {},
     "output_type": "execute_result"
    }
   ],
   "source": [
    "# Sample data\n",
    "data = {\n",
    "    \"student\": [\"A\", \"B\", \"C\", \"D\", \"E\", \"F\", \"G\", \"H\", \"I\"],\n",
    "    \"class\": [\"Math\", \"English\", \"Math\", \"Biology\", \"Math\", \"Computer\", \"Math\", \"Math\", \"Math\"]\n",
    "}\n",
    "\n",
    "# Create DataFrame\n",
    "df = pd.DataFrame(data)\n",
    "\n",
    "# invke function\n",
    "find_classes(df)\n"
   ]
  }
 ],
 "metadata": {
  "kernelspec": {
   "display_name": "Python 3",
   "language": "python",
   "name": "python3"
  },
  "language_info": {
   "codemirror_mode": {
    "name": "ipython",
    "version": 3
   },
   "file_extension": ".py",
   "mimetype": "text/x-python",
   "name": "python",
   "nbconvert_exporter": "python",
   "pygments_lexer": "ipython3",
   "version": "3.12.4"
  }
 },
 "nbformat": 4,
 "nbformat_minor": 2
}
